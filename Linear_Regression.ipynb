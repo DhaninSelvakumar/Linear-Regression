{
 "cells": [
  {
   "cell_type": "code",
   "execution_count": 35,
   "id": "4173d922",
   "metadata": {},
   "outputs": [],
   "source": [
    "import numpy as np\n",
    "import pandas as pd\n",
    "import matplotlib.pyplot as plt\n",
    "import seaborn as sns\n",
    "%matplotlib inline"
   ]
  },
  {
   "cell_type": "code",
   "execution_count": 36,
   "id": "b3dab0b4",
   "metadata": {},
   "outputs": [
    {
     "data": {
      "text/html": [
       "<div>\n",
       "<style scoped>\n",
       "    .dataframe tbody tr th:only-of-type {\n",
       "        vertical-align: middle;\n",
       "    }\n",
       "\n",
       "    .dataframe tbody tr th {\n",
       "        vertical-align: top;\n",
       "    }\n",
       "\n",
       "    .dataframe thead th {\n",
       "        text-align: right;\n",
       "    }\n",
       "</style>\n",
       "<table border=\"1\" class=\"dataframe\">\n",
       "  <thead>\n",
       "    <tr style=\"text-align: right;\">\n",
       "      <th></th>\n",
       "      <th>R&amp;D Spend</th>\n",
       "      <th>Administration</th>\n",
       "      <th>Marketing Spend</th>\n",
       "      <th>State</th>\n",
       "      <th>Profit</th>\n",
       "    </tr>\n",
       "  </thead>\n",
       "  <tbody>\n",
       "    <tr>\n",
       "      <th>0</th>\n",
       "      <td>165349.20</td>\n",
       "      <td>136897.80</td>\n",
       "      <td>471784.10</td>\n",
       "      <td>New York</td>\n",
       "      <td>192261.83</td>\n",
       "    </tr>\n",
       "    <tr>\n",
       "      <th>1</th>\n",
       "      <td>162597.70</td>\n",
       "      <td>151377.59</td>\n",
       "      <td>443898.53</td>\n",
       "      <td>California</td>\n",
       "      <td>191792.06</td>\n",
       "    </tr>\n",
       "    <tr>\n",
       "      <th>2</th>\n",
       "      <td>153441.51</td>\n",
       "      <td>101145.55</td>\n",
       "      <td>407934.54</td>\n",
       "      <td>Florida</td>\n",
       "      <td>191050.39</td>\n",
       "    </tr>\n",
       "    <tr>\n",
       "      <th>3</th>\n",
       "      <td>144372.41</td>\n",
       "      <td>118671.85</td>\n",
       "      <td>383199.62</td>\n",
       "      <td>New York</td>\n",
       "      <td>182901.99</td>\n",
       "    </tr>\n",
       "    <tr>\n",
       "      <th>4</th>\n",
       "      <td>142107.34</td>\n",
       "      <td>91391.77</td>\n",
       "      <td>366168.42</td>\n",
       "      <td>Florida</td>\n",
       "      <td>166187.94</td>\n",
       "    </tr>\n",
       "  </tbody>\n",
       "</table>\n",
       "</div>"
      ],
      "text/plain": [
       "   R&D Spend  Administration  Marketing Spend       State     Profit\n",
       "0  165349.20       136897.80        471784.10    New York  192261.83\n",
       "1  162597.70       151377.59        443898.53  California  191792.06\n",
       "2  153441.51       101145.55        407934.54     Florida  191050.39\n",
       "3  144372.41       118671.85        383199.62    New York  182901.99\n",
       "4  142107.34        91391.77        366168.42     Florida  166187.94"
      ]
     },
     "execution_count": 36,
     "metadata": {},
     "output_type": "execute_result"
    }
   ],
   "source": [
    "data=pd.read_csv(\"1000_Companies.csv\")\n",
    "data.head()"
   ]
  },
  {
   "cell_type": "code",
   "execution_count": 37,
   "id": "c8833998",
   "metadata": {},
   "outputs": [],
   "source": [
    "x=data.iloc[: , :-1].values\n",
    "y=data.iloc[: , 4].values\n",
    "a=['State']\n",
    "\n",
    "def convert(data,column):\n",
    "    data[column]=pd.to_numeric(data[column],errors =\"coerce\")\n",
    "\n",
    "for column in a:\n",
    "    convert(data,column)\n"
   ]
  },
  {
   "cell_type": "code",
   "execution_count": 38,
   "id": "459a1e2a",
   "metadata": {},
   "outputs": [
    {
     "data": {
      "text/plain": [
       "<Axes: >"
      ]
     },
     "execution_count": 38,
     "metadata": {},
     "output_type": "execute_result"
    },
    {
     "data": {
      "image/png": "[encoded data removed]",
      "text/plain": [
       "<Figure size 640x480 with 2 Axes>"
      ]
     },
     "metadata": {},
     "output_type": "display_data"
    }
   ],
   "source": [
    "sns.heatmap(data.corr())"
   ]
  },
  {
   "cell_type": "code",
   "execution_count": 39,
   "id": "b989e158",
   "metadata": {},
   "outputs": [],
   "source": [
    "from sklearn.preprocessing import LabelEncoder, OneHotEncoder\n",
    "from sklearn.compose import ColumnTransformer\n",
    "labelen= LabelEncoder()\n",
    "x[:,3] = labelen.fit_transform(x[:, 3])\n",
    "\n",
    "one=ColumnTransformer([( 'my_ohe',OneHotEncoder(), [0])], remainder='passthrough')\n",
    "x=one.fit_transform(x).toarray()\n"
   ]
  },
  {
   "cell_type": "code",
   "execution_count": 40,
   "id": "7d71eebb",
   "metadata": {},
   "outputs": [],
   "source": [
    "x=x[:,1:]"
   ]
  },
  {
   "cell_type": "code",
   "execution_count": 41,
   "id": "ca77757e",
   "metadata": {},
   "outputs": [],
   "source": [
    "from sklearn.model_selection import train_test_split\n",
    "x_train, x_test ,y_train, y_test = train_test_split(x,y ,test_size=0.2,random_state=0)"
   ]
  },
  {
   "cell_type": "code",
   "execution_count": 42,
   "id": "899f3e2f",
   "metadata": {},
   "outputs": [
    {
     "data": {
      "text/html": [
       "<style>#sk-container-id-1 {color: black;}#sk-container-id-1 pre{padding: 0;}#sk-container-id-1 div.sk-toggleable {background-color: white;}#sk-container-id-1 label.sk-toggleable__label {cursor: pointer;display: block;width: 100%;margin-bottom: 0;padding: 0.3em;box-sizing: border-box;text-align: center;}#sk-container-id-1 label.sk-toggleable__label-arrow:before {content: \"▸\";float: left;margin-right: 0.25em;color: #696969;}#sk-container-id-1 label.sk-toggleable__label-arrow:hover:before {color: black;}#sk-container-id-1 div.sk-estimator:hover label.sk-toggleable__label-arrow:before {color: black;}#sk-container-id-1 div.sk-toggleable__content {max-height: 0;max-width: 0;overflow: hidden;text-align: left;background-color: #f0f8ff;}#sk-container-id-1 div.sk-toggleable__content pre {margin: 0.2em;color: black;border-radius: 0.25em;background-color: #f0f8ff;}#sk-container-id-1 input.sk-toggleable__control:checked~div.sk-toggleable__content {max-height: 200px;max-width: 100%;overflow: auto;}#sk-container-id-1 input.sk-toggleable__control:checked~label.sk-toggleable__label-arrow:before {content: \"▾\";}#sk-container-id-1 div.sk-estimator input.sk-toggleable__control:checked~label.sk-toggleable__label {background-color: #d4ebff;}#sk-container-id-1 div.sk-label input.sk-toggleable__control:checked~label.sk-toggleable__label {background-color: #d4ebff;}#sk-container-id-1 input.sk-hidden--visually {border: 0;clip: rect(1px 1px 1px 1px);clip: rect(1px, 1px, 1px, 1px);height: 1px;margin: -1px;overflow: hidden;padding: 0;position: absolute;width: 1px;}#sk-container-id-1 div.sk-estimator {font-family: monospace;background-color: #f0f8ff;border: 1px dotted black;border-radius: 0.25em;box-sizing: border-box;margin-bottom: 0.5em;}#sk-container-id-1 div.sk-estimator:hover {background-color: #d4ebff;}#sk-container-id-1 div.sk-parallel-item::after {content: \"\";width: 100%;border-bottom: 1px solid gray;flex-grow: 1;}#sk-container-id-1 div.sk-label:hover label.sk-toggleable__label {background-color: #d4ebff;}#sk-container-id-1 div.sk-serial::before {content: \"\";position: absolute;border-left: 1px solid gray;box-sizing: border-box;top: 0;bottom: 0;left: 50%;z-index: 0;}#sk-container-id-1 div.sk-serial {display: flex;flex-direction: column;align-items: center;background-color: white;padding-right: 0.2em;padding-left: 0.2em;position: relative;}#sk-container-id-1 div.sk-item {position: relative;z-index: 1;}#sk-container-id-1 div.sk-parallel {display: flex;align-items: stretch;justify-content: center;background-color: white;position: relative;}#sk-container-id-1 div.sk-item::before, #sk-container-id-1 div.sk-parallel-item::before {content: \"\";position: absolute;border-left: 1px solid gray;box-sizing: border-box;top: 0;bottom: 0;left: 50%;z-index: -1;}#sk-container-id-1 div.sk-parallel-item {display: flex;flex-direction: column;z-index: 1;position: relative;background-color: white;}#sk-container-id-1 div.sk-parallel-item:first-child::after {align-self: flex-end;width: 50%;}#sk-container-id-1 div.sk-parallel-item:last-child::after {align-self: flex-start;width: 50%;}#sk-container-id-1 div.sk-parallel-item:only-child::after {width: 0;}#sk-container-id-1 div.sk-dashed-wrapped {border: 1px dashed gray;margin: 0 0.4em 0.5em 0.4em;box-sizing: border-box;padding-bottom: 0.4em;background-color: white;}#sk-container-id-1 div.sk-label label {font-family: monospace;font-weight: bold;display: inline-block;line-height: 1.2em;}#sk-container-id-1 div.sk-label-container {text-align: center;}#sk-container-id-1 div.sk-container {/* jupyter's `normalize.less` sets `[hidden] { display: none; }` but bootstrap.min.css set `[hidden] { display: none !important; }` so we also need the `!important` here to be able to override the default hidden behavior on the sphinx rendered scikit-learn.org. See: https://github.com/scikit-learn/scikit-learn/issues/21755 */display: inline-block !important;position: relative;}#sk-container-id-1 div.sk-text-repr-fallback {display: none;}</style><div id=\"sk-container-id-1\" class=\"sk-top-container\"><div class=\"sk-text-repr-fallback\"><pre>LinearRegression()</pre><b>In a Jupyter environment, please rerun this cell to show the HTML representation or trust the notebook. <br />On GitHub, the HTML representation is unable to render, please try loading this page with nbviewer.org.</b></div><div class=\"sk-container\" hidden><div class=\"sk-item\"><div class=\"sk-estimator sk-toggleable\"><input class=\"sk-toggleable__control sk-hidden--visually\" id=\"sk-estimator-id-1\" type=\"checkbox\" checked><label for=\"sk-estimator-id-1\" class=\"sk-toggleable__label sk-toggleable__label-arrow\">LinearRegression</label><div class=\"sk-toggleable__content\"><pre>LinearRegression()</pre></div></div></div></div></div>"
      ],
      "text/plain": [
       "LinearRegression()"
      ]
     },
     "execution_count": 42,
     "metadata": {},
     "output_type": "execute_result"
    }
   ],
   "source": [
    "from sklearn.linear_model import LinearRegression\n",
    "r=LinearRegression()\n",
    "r.fit(x_train,y_train)"
   ]
  },
  {
   "cell_type": "code",
   "execution_count": 43,
   "id": "52d56da8",
   "metadata": {
    "scrolled": true
   },
   "outputs": [
    {
     "data": {
      "text/plain": [
       "array([ 59465.69818401,  57709.67332762,  66038.91085702, 184076.81404836,\n",
       "        77878.42604641, 112856.36116067, 185665.50785702,  61632.82493888,\n",
       "       182432.07225566,  26370.54252566,  30050.90256444, 151733.46863268,\n",
       "       107276.2065839 ,  20247.44414003, 172439.20106784,  67452.78918965,\n",
       "       110112.69873678, 155775.20054296, 205989.94078289, 204933.28044767,\n",
       "       144640.93490822,  54158.94512227, 190917.46420122,  52195.15899763,\n",
       "        79060.45884311,  74202.38138285,  41351.55465387,  43711.64427618,\n",
       "        32557.29916934, 252560.50146017, 113371.67718311,  87713.49433063,\n",
       "       101157.63379284, 135497.14680328,  26212.84463239,  84021.31143889,\n",
       "       210014.59029413, 178618.6601961 , 182741.83727127, 109370.06254699,\n",
       "        95031.99181668, 156905.73125624,  82561.45697966,  22470.59771837,\n",
       "       107879.2651159 ,  19339.04117679, 161843.04333623,  58976.90481773,\n",
       "       163531.65613832, 126712.60277244, 195924.73166131, 182696.52780225,\n",
       "        64559.1644733 ,  71348.31278782, 193121.46788255,  66601.0802745 ,\n",
       "       141861.49330321, 190186.65110619,  79106.206843  , 106076.49236926,\n",
       "       140263.49964617,  38104.30019431, 126500.75417556, 149694.20166196,\n",
       "        70417.36896957, 104109.72434978, 133696.58407242, 166383.61969289,\n",
       "        46265.56065389, 182279.90011575, 104325.5547319 , 161559.36265283,\n",
       "        75381.20395092, 171579.86156955,  52404.02541569,  70751.55184611,\n",
       "       112902.00418491,  90716.525082  , 122866.03715706, 128769.55140633,\n",
       "       178239.60641972, 124234.16724469, 107444.62221132, 144270.97309619,\n",
       "       150793.78911961, 112342.48363627,  33557.42648915,  83978.65055533,\n",
       "       124299.3689607 , 161674.73272315, 173828.76683736,  19210.84807551,\n",
       "        91137.57316112, 102898.52031184,  43292.80627432, 108790.64999711,\n",
       "       147594.81994899, 166394.67094694, 186567.40548958,  96761.05544806,\n",
       "       113351.78518153, 136876.32789924, 173328.15062174, 114895.62816978,\n",
       "        82617.1511221 ,  92784.52500844,  93233.97269548, 200194.555372  ,\n",
       "       178142.68985307, 111902.64849819, 156650.45018053, 159937.0563943 ,\n",
       "       173939.27802238, 195549.76492969, 163015.90162373,  11186.62167884,\n",
       "       171697.67027368,  78733.34519048,  50347.40980766, 149326.19889425,\n",
       "       143630.77922308, 166044.68343612, 176325.55064773, 112949.52399206,\n",
       "       162440.90938967,  85767.39015282, 188971.0264684 ,  22079.72169436,\n",
       "       148643.90570419, 147526.63633812, 195200.54922063, 171740.10306888,\n",
       "        77397.2635088 ,  80742.87931479, 126192.42761958, 184132.84150042,\n",
       "       113891.0804956 , 220848.44695326,  87263.38002414,  63556.49354393,\n",
       "       173893.52998423,  74919.59985943,  61259.73519739,  86685.07262414,\n",
       "        49334.45973264,  59205.32992775,  51551.6498814 , 171666.72701791,\n",
       "        73353.32129864, 178344.08706174,  77175.90762189,  41939.66230104,\n",
       "       166415.22956788,  22251.01421405, 175493.40038619, 158190.97768053,\n",
       "       170869.6070954 ,  89407.29936589, 204322.1528016 ,  52745.17201104,\n",
       "        61367.5977974 , 118707.49675573,  54067.65907397,  62893.0924647 ,\n",
       "        48505.62494431, 195162.2034702 , 184857.02390261, 175105.17234586,\n",
       "       152505.6093731 , 169571.87116421,  45859.98397616,  74530.26687603,\n",
       "       167349.488552  , 174697.71888481,  63807.02091701, 107300.18587552,\n",
       "        60968.31870984, 163413.07563211, 120886.1130884 , 111495.52834692,\n",
       "       182600.38286897, 514591.91604609, 132203.13781061, 164466.24847114,\n",
       "        68720.68705349,  47934.61456493,  48101.4867186 ,  32734.11718172,\n",
       "       125856.91178825,  85947.96214575, 172670.94162787, 105472.66199708,\n",
       "        57012.78562855, 120547.40713594,  96495.82830662, 157479.28499218,\n",
       "       175029.25293073, 133154.64021163, 152553.12914204, 110943.41029317])"
      ]
     },
     "execution_count": 43,
     "metadata": {},
     "output_type": "execute_result"
    }
   ],
   "source": [
    "pred=r.predict(x_test)\n",
    "pred"
   ]
  },
  {
   "cell_type": "code",
   "execution_count": 44,
   "id": "baccceb3",
   "metadata": {},
   "outputs": [
    {
     "data": {
      "text/plain": [
       "0.789595822383191"
      ]
     },
     "execution_count": 44,
     "metadata": {},
     "output_type": "execute_result"
    }
   ],
   "source": [
    "from sklearn.metrics import r2_score\n",
    "r2_score(y_test,pred)"
   ]
  },
  {
   "cell_type": "code",
   "execution_count": null,
   "id": "a76164b6",
   "metadata": {},
   "outputs": [],
   "source": []
  }
 ],
 "metadata": {
  "kernelspec": {
   "display_name": "Python 3 (ipykernel)",
   "language": "python",
   "name": "python3"
  },
  "language_info": {
   "codemirror_mode": {
    "name": "ipython",
    "version": 3
   },
   "file_extension": ".py",
   "mimetype": "text/x-python",
   "name": "python",
   "nbconvert_exporter": "python",
   "pygments_lexer": "ipython3",
   "version": "3.11.5"
  }
 },
 "nbformat": 4,
 "nbformat_minor": 5
}
